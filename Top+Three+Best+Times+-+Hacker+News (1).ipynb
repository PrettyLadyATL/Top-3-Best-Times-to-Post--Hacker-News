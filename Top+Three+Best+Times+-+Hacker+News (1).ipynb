{
 "cells": [
  {
   "cell_type": "markdown",
   "metadata": {},
   "source": [
    "## Top Three Best Times to get YOUR Message Out on Hacker News"
   ]
  },
  {
   "cell_type": "markdown",
   "metadata": {
    "collapsed": true
   },
   "source": [
    "In this project, we'll discover the top three best times to post content for optimal engagement. Our data set is from Hacker News, comprised of submissions information.\n",
    "\n",
    "The working data set was reduced from almost 300,000 rows to approximately 20,000 rows by removing all submissions that did not receive any comments. Most of our courses are on data analytics/data science, and I have expanded learning to include cloud interaction and Power BI. \n",
    "\n",
    "The goal is to analyze existing data about already high engagement articles to find the best placement for optimal engagement. To make our recommendation, we'll try to find out: \n",
    "We'll compare these two types of posts to determine the following: \n",
    "* Do Ask HN or Show HN receive more comments on average? \n",
    "* Do posts created at a specific time receive more comments on average? \n",
    " \n",
    "I collected and sorted the data from top to engagement topics Ask HN and Show HN to:\n",
    "* Determine which engagement topic receives more comments on average. \n",
    "* Determine which post created at a particular time receive more comments on average. \n",
    "* Propose a strategy for increased exposure based on analyzed data. \n",
    " \n",
    "#### Summary of Results \n",
    "\n",
    "After analyzing the data, engagement, or comments per post success can range from 60-85% based on two to three different Eastern Standard time postings. These timely postings in conjunction with backlinks, informing viewers about post schedules before, and doing series will work to get optimal results. "
   ]
  },
  {
   "cell_type": "markdown",
   "metadata": {},
   "source": [
    "### Exploring the raw data before cleaning\n",
    "\n",
    "Since we're only concerned with post titles beginning with Ask HN or Show HN, we'll create: new lists of lists containing just the data for those titles.\n",
    "* New lists separating the data\n",
    "* Determine the Average number of comments for each title\n",
    "* Determine which out of the two to further analyize\n",
    "\n"
   ]
  },
  {
   "cell_type": "code",
   "execution_count": 1,
   "metadata": {
    "collapsed": false,
    "scrolled": true
   },
   "outputs": [
    {
     "name": "stdout",
     "output_type": "stream",
     "text": [
      "['id', 'title', 'url', 'num_points', 'num_comments', 'author', 'created_at']\n",
      "\n",
      "[['12224879', 'Interactive Dynamic Video', 'http://www.interactivedynamicvideo.com/', '386', '52', 'ne0phyte', '8/4/2016 11:52'], ['10975351', 'How to Use Open Source and Shut the Fuck Up at the Same Time', 'http://hueniverse.com/2016/01/26/how-to-use-open-source-and-shut-the-fuck-up-at-the-same-time/', '39', '10', 'josep2', '1/26/2016 19:30'], ['11964716', \"Florida DJs May Face Felony for April Fools' Water Joke\", 'http://www.thewire.com/entertainment/2013/04/florida-djs-april-fools-water-joke/63798/', '2', '1', 'vezycash', '6/23/2016 22:20']]\n"
     ]
    }
   ],
   "source": [
    "from csv import reader\n",
    "opened_file=open('hacker_news.csv')\n",
    "read_file=reader(opened_file)\n",
    "hn=list(read_file)\n",
    "\n",
    "#extract first row/header from raw data\n",
    "headers=hn[0]\n",
    "hn=hn[1:]\n",
    "\n",
    "#display first four row to verify proper removal\n",
    "print(headers)\n",
    "print()\n",
    "print(hn[:3])"
   ]
  },
  {
   "cell_type": "markdown",
   "metadata": {},
   "source": [
    "### Separate posts begining with Ask HN and Show HN"
   ]
  },
  {
   "cell_type": "code",
   "execution_count": 2,
   "metadata": {
    "collapsed": false
   },
   "outputs": [
    {
     "name": "stdout",
     "output_type": "stream",
     "text": [
      "Number of Ask Posts:  1744\n",
      "Number of Show Posts:  1162\n",
      "Other posts total:  18938\n"
     ]
    }
   ],
   "source": [
    "ask_posts=[]\n",
    "show_posts=[]\n",
    "other_posts=[]\n",
    "\n",
    "#list for lower case version of titles: show hn, ask hn\n",
    "for row in hn:\n",
    "    title=row[1]\n",
    "    if title.lower().startswith('ask hn'):\n",
    "        ask_posts.append(row)\n",
    "    if title.lower().startswith('show hn'):\n",
    "        show_posts.append(row)\n",
    "    else:\n",
    "        other_posts.append(row)\n",
    "\n",
    "#verify number of posts with desired titles\n",
    "print(\"Number of Ask Posts: \", len(ask_posts))\n",
    "print(\"Number of Show Posts: \", len(show_posts))\n",
    "print(\"Other posts total: \", len(other_posts))"
   ]
  },
  {
   "cell_type": "code",
   "execution_count": 3,
   "metadata": {
    "collapsed": false
   },
   "outputs": [
    {
     "name": "stdout",
     "output_type": "stream",
     "text": [
      "[['12296411', 'Ask HN: How to improve my personal website?', '', '2', '6', 'ahmedbaracat', '8/16/2016 9:55'], ['10610020', 'Ask HN: Am I the only one outraged by Twitter shutting down share counts?', '', '28', '29', 'tkfx', '11/22/2015 13:43'], ['11610310', 'Ask HN: Aby recent changes to CSS that broke mobile?', '', '1', '1', 'polskibus', '5/2/2016 10:14']]\n",
      "\n",
      "[['10627194', 'Show HN: Wio Link  ESP8266 Based Web of Things Hardware Development Platform', 'https://iot.seeed.cc', '26', '22', 'kfihihc', '11/25/2015 14:03'], ['10646440', 'Show HN: Something pointless I made', 'http://dn.ht/picklecat/', '747', '102', 'dhotson', '11/29/2015 22:46'], ['11590768', 'Show HN: Shanhu.io, a programming playground powered by e8vm', 'https://shanhu.io', '1', '1', 'h8liu', '4/28/2016 18:05']]\n"
     ]
    }
   ],
   "source": [
    "print(ask_posts[:3])\n",
    "print()\n",
    "print(show_posts[:3])"
   ]
  },
  {
   "cell_type": "markdown",
   "metadata": {
    "collapsed": true
   },
   "source": [
    "### Finding the Average number of comments for the two selected titles"
   ]
  },
  {
   "cell_type": "code",
   "execution_count": 4,
   "metadata": {
    "collapsed": false
   },
   "outputs": [
    {
     "name": "stdout",
     "output_type": "stream",
     "text": [
      "Average number of comments for Ask HN:  14.04 %\n"
     ]
    }
   ],
   "source": [
    "total_ask_comments=0\n",
    "\n",
    "for row in ask_posts:\n",
    "    num_comments=int(row[4])\n",
    "    total_ask_comments+=num_comments\n",
    "      \n",
    "avg_ask_comments=total_ask_comments/len(ask_posts)\n",
    "avg_ask_comments=round(avg_ask_comments, 2)\n",
    "print('Average number of comments for Ask HN: ',avg_ask_comments, '%')\n"
   ]
  },
  {
   "cell_type": "code",
   "execution_count": 5,
   "metadata": {
    "collapsed": false
   },
   "outputs": [
    {
     "name": "stdout",
     "output_type": "stream",
     "text": [
      "Average number of comments for Show HN:  10.32 %\n"
     ]
    }
   ],
   "source": [
    "total_show_comments=0\n",
    "\n",
    "for row in show_posts:\n",
    "    num_comments=int(row[4])\n",
    "    total_show_comments+=num_comments\n",
    "      \n",
    "avg_show_comments=total_show_comments/len(show_posts)\n",
    "avg_show_comments=round(avg_show_comments, 2)\n",
    "print('Average number of comments for Show HN: ',avg_show_comments, '%')\n"
   ]
  },
  {
   "cell_type": "markdown",
   "metadata": {},
   "source": [
    "At this point, the data shows that Ask HN is the better choice to futher explore. Now focus will be on forming the data into hourly time frames, establishing counts, and averaging numbers to find the top five best times."
   ]
  },
  {
   "cell_type": "markdown",
   "metadata": {},
   "source": [
    "### Determine if ask posts created at a certain time are more likely to attract comments. "
   ]
  },
  {
   "cell_type": "code",
   "execution_count": 6,
   "metadata": {
    "collapsed": false
   },
   "outputs": [
    {
     "name": "stdout",
     "output_type": "stream",
     "text": [
      "[['8/16/2016 9:55', 6], ['11/22/2015 13:43', 29], ['5/2/2016 10:14', 1], ['8/2/2016 14:20', 3], ['10/15/2015 16:38', 17], ['9/26/2015 23:23', 1], ['4/22/2016 12:24', 4], ['11/16/2015 9:22', 1], ['2/24/2016 17:57', 1]]\n"
     ]
    }
   ],
   "source": [
    "import datetime as dt\n",
    "results_list=[]\n",
    "for row in ask_posts:\n",
    "    created_at=row[6]\n",
    "    comments=int(row[4])\n",
    "    results_list.append([created_at, comments])\n",
    "\n",
    "print(results_list[:9])\n",
    "    \n",
    "    "
   ]
  },
  {
   "cell_type": "code",
   "execution_count": 7,
   "metadata": {
    "collapsed": false
   },
   "outputs": [
    {
     "data": {
      "text/plain": [
       "{'00': 447,\n",
       " '01': 683,\n",
       " '02': 1381,\n",
       " '03': 421,\n",
       " '04': 337,\n",
       " '05': 464,\n",
       " '06': 397,\n",
       " '07': 267,\n",
       " '08': 492,\n",
       " '09': 251,\n",
       " '10': 793,\n",
       " '11': 641,\n",
       " '12': 687,\n",
       " '13': 1253,\n",
       " '14': 1416,\n",
       " '15': 4477,\n",
       " '16': 1814,\n",
       " '17': 1146,\n",
       " '18': 1439,\n",
       " '19': 1188,\n",
       " '20': 1722,\n",
       " '21': 1745,\n",
       " '22': 479,\n",
       " '23': 543}"
      ]
     },
     "execution_count": 7,
     "metadata": {},
     "output_type": "execute_result"
    }
   ],
   "source": [
    "#two dictionaries containing counts by hour and comments by hour the number of comments received.\n",
    "\n",
    "import datetime as dt\n",
    "counts_by_hour={}\n",
    "comments_by_hour={}\n",
    "date_format= \"%m/%d/%Y %H:%M\"\n",
    "\n",
    "# Calculate the amount of ask posts created during each hour of day and \n",
    "for row in results_list:\n",
    "    date_hour=row[0]\n",
    "    comment=row[1]\n",
    "    time=dt.datetime.strptime(date_hour, date_format).strftime(\"%H\")\n",
    "    \n",
    "    if time in counts_by_hour:\n",
    "        counts_by_hour[time]+=1\n",
    "        comments_by_hour[time]+=comment\n",
    "    else:\n",
    "        counts_by_hour[time]=1\n",
    "        comments_by_hour[time]=comment\n",
    "\n",
    "comments_by_hour"
   ]
  },
  {
   "cell_type": "code",
   "execution_count": 8,
   "metadata": {
    "collapsed": true
   },
   "outputs": [
    {
     "data": {
      "text/plain": [
       "[['13', 14.741176470588234],\n",
       " ['18', 13.20183486238532],\n",
       " ['14', 13.233644859813085],\n",
       " ['03', 7.796296296296297],\n",
       " ['04', 7.170212765957447],\n",
       " ['01', 11.383333333333333],\n",
       " ['15', 38.5948275862069],\n",
       " ['19', 10.8],\n",
       " ['11', 11.051724137931034],\n",
       " ['16', 16.796296296296298],\n",
       " ['22', 6.746478873239437],\n",
       " ['09', 5.5777777777777775],\n",
       " ['06', 9.022727272727273],\n",
       " ['23', 7.985294117647059],\n",
       " ['10', 13.440677966101696],\n",
       " ['07', 7.852941176470588],\n",
       " ['05', 10.08695652173913],\n",
       " ['17', 11.46],\n",
       " ['21', 16.009174311926607],\n",
       " ['08', 10.25],\n",
       " ['20', 21.525],\n",
       " ['12', 9.41095890410959],\n",
       " ['02', 23.810344827586206],\n",
       " ['00', 8.127272727272727]]"
      ]
     },
     "execution_count": 8,
     "metadata": {},
     "output_type": "execute_result"
    }
   ],
   "source": [
    "#calculate the average number of comment for posts created during each hour of the day\n",
    "avg_by_hour=[]\n",
    "for hour in comments_by_hour:\n",
    "    avg_by_hour.append([hour, comments_by_hour[hour]/counts_by_hour[hour]])\n",
    "    \n",
    "avg_by_hour"
   ]
  },
  {
   "cell_type": "markdown",
   "metadata": {
    "collapsed": true
   },
   "source": [
    "#### Sorting the list of lists and printing the five highest values in a format that's easier to read"
   ]
  },
  {
   "cell_type": "code",
   "execution_count": 9,
   "metadata": {
    "collapsed": false
   },
   "outputs": [
    {
     "name": "stdout",
     "output_type": "stream",
     "text": [
      "[[14.741176470588234, '13'], [13.20183486238532, '18'], [13.233644859813085, '14']]\n"
     ]
    }
   ],
   "source": [
    "#Swapped the data order to reflect average first then hour.\n",
    "swap_avg_by_hour=[]\n",
    "for row in avg_by_hour:\n",
    "    swap_avg_by_hour.append([row[1], row[0]])\n",
    "    \n",
    "print(swap_avg_by_hour[:3])"
   ]
  },
  {
   "cell_type": "code",
   "execution_count": 10,
   "metadata": {
    "collapsed": false
   },
   "outputs": [
    {
     "name": "stdout",
     "output_type": "stream",
     "text": [
      "The Top 5 Hours for Ask Posts Comments: \n",
      "\n",
      "15:00: 38.59 average comments per post\n",
      "02:00: 23.81 average comments per post\n",
      "20:00: 21.52 average comments per post\n",
      "16:00: 16.80 average comments per post\n",
      "21:00: 16.01 average comments per post\n"
     ]
    }
   ],
   "source": [
    "sorted_swap=sorted(swap_avg_by_hour, reverse=True)\n",
    "print(\"The Top 5 Hours for Ask Posts Comments: \")\n",
    "print()\n",
    "for avg, hr in sorted_swap[:5]:\n",
    "    print(\n",
    "        \"{}: {:.2f} average comments per post\".format(\n",
    "            dt.datetime.strptime(hr, \"%H\").strftime(\"%H:%M\"),avg\n",
    "        )\n",
    "    )"
   ]
  },
  {
   "cell_type": "markdown",
   "metadata": {
    "collapsed": true
   },
   "source": [
    "The is a 39% chance that posts will recieve comments if created around the 15:00 hour or 3:00 pm; this increases to 63%, when an additional post is created at 02:00 or 2:00 am. Finally, an 85% chance when a third posting time is created at 20:00 or 8:00 p.m. All times are Easter Standard time.\n",
    "\n",
    "Source: (data set)[https://www.kaggle.com/hacker-news/hacker-news-posts]"
   ]
  },
  {
   "cell_type": "markdown",
   "metadata": {
    "collapsed": true
   },
   "source": [
    "## Conculsion\n",
    "The problem: which forum on Hacker News give the highest engagement per posts? What does that look like and how to best strategized to achieve this. \n",
    "The solution, the most engaged forums are Ask HN and Show HN. Ask HN takes the lead over Show HN by around 4%. When we analyze further engagement or comments per post sucess can range from 60-85% based on two to three different Eastern Standard time postings. Namely, 3:00 p.m. at 39%, 8:oo p.m. at 22%, and 2:00 p.m. at 24%.\n",
    "\n",
    "It should be noted that the data excluded posts without comments. And its more accurate to say that the data reflects post that recieved comments.\n",
    "\n"
   ]
  }
 ],
 "metadata": {
  "kernelspec": {
   "display_name": "Python 3",
   "language": "python",
   "name": "python3"
  },
  "language_info": {
   "codemirror_mode": {
    "name": "ipython",
    "version": 3
   },
   "file_extension": ".py",
   "mimetype": "text/x-python",
   "name": "python",
   "nbconvert_exporter": "python",
   "pygments_lexer": "ipython3",
   "version": "3.4.3"
  }
 },
 "nbformat": 4,
 "nbformat_minor": 2
}
